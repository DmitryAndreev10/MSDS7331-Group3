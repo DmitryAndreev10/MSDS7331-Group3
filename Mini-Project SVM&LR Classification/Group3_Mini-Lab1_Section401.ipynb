{
 "cells": [
  {
   "cell_type": "markdown",
   "metadata": {},
   "source": [
    "<a id='BacktoTop'></a>\n",
    "# Mini-Project: SVM&LR Classification\n",
    "## MSDS 7331: Data Mining\n",
    "## Dr. Drew\n",
    "## Group 3: Shanqing Gu, Manisha Pednekar, Dmitry Andreev and Jonathan Knowles\n",
    "\n",
    "*Perform predictive analysis (classification) upon a data set: model the dataset using methods we have discussed in class: logistic regression and support vector machines, and making conclusions from the analysis*\n"
   ]
  },
  {
   "cell_type": "markdown",
   "metadata": {},
   "source": [
    "## Table of Contents\n",
    "1. [Model Creation](#ModelCreation)\n",
    "2. [Model Advantages](#ModelAdvantages)\n",
    "3. [Interpret Feature Importance](#InterpretFeatureImportance)\n",
    "4. [Insights From Support Vectors](#InsightsFromSupportVectors)"
   ]
  },
  {
   "cell_type": "markdown",
   "metadata": {},
   "source": [
    "<a id='ModelCreation'></a>\n",
    "### 01. Model Creation\n",
    "[Back to top](#BacktoTop)\n",
    "\n",
    "#### Section Objective:\n",
    "Create a logistic regression model and a support vector machine model for the classification task involved with your dataset. Assess how well each model performs (use 80/20 training/testing split for your data). Adjust parameters of the models to make them more accurate."
   ]
  },
  {
   "cell_type": "markdown",
   "metadata": {},
   "source": [
    "<a id='ModelAdvantages'></a>\n",
    "### 02. Model Advantages\n",
    "[Back to top](#BacktoTop)\n",
    "\n",
    "#### Section Objective:\n",
    "Discuss the advantages of each model for each classification task. Does one type\n",
    "of model offer superior performance over another in terms of prediction accuracy? In terms of\n",
    "training time or efficiency? Explain in detail."
   ]
  },
  {
   "cell_type": "markdown",
   "metadata": {},
   "source": [
    "<a id='InterpretFeatureImportance'></a>\n",
    "### 03. Interpret Feature Importance\n",
    "[Back to top](#BacktoTop)\n",
    "\n",
    "#### Section Objective:\n",
    "Use the weights from logistic regression to interpret the importance of different features for the classification task. Explain your interpretation in detail. Why do you think some variables are more important?"
   ]
  },
  {
   "cell_type": "markdown",
   "metadata": {},
   "source": [
    "<a id='InsightsFromSupportVectors'></a>\n",
    "### 04. Insights From Support Vectors\n",
    "[Back to top](#BacktoTop)\n",
    "\n",
    "#### Section Objective:\n",
    "Look at the chosen support vectors for the classification task. Do these provide any insight into the data? Explain."
   ]
  },
  {
   "cell_type": "markdown",
   "metadata": {},
   "source": [
    "### Resource and Reference\n",
    "\n",
    "\n",
    "1.\n",
    "\n",
    "2.\n",
    "\n",
    "3.\n",
    "\n",
    "4."
   ]
  }
 ],
 "metadata": {
  "kernelspec": {
   "display_name": "Python 3",
   "language": "python",
   "name": "python3"
  },
  "language_info": {
   "codemirror_mode": {
    "name": "ipython",
    "version": 3
   },
   "file_extension": ".py",
   "mimetype": "text/x-python",
   "name": "python",
   "nbconvert_exporter": "python",
   "pygments_lexer": "ipython3",
   "version": "3.6.5"
  }
 },
 "nbformat": 4,
 "nbformat_minor": 2
}
